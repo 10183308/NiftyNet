{
 "cells": [
  {
   "cell_type": "markdown",
   "metadata": {},
   "source": [
    "# PROMISE12 prostate segmentation demo"
   ]
  },
  {
   "cell_type": "markdown",
   "metadata": {},
   "source": [
    "## Preparation:\n",
    "1) Make sure you have setup up the PROMISE12 data set. If not, see data/PROMISE12/README.md for instructions.\n",
    "\n",
    "2) Make sure you are in NiftyNet root, setting niftynet_path correctly to the path with the niftynet folder in it"
   ]
  },
  {
   "cell_type": "code",
   "execution_count": 3,
   "metadata": {},
   "outputs": [
    {
     "data": {
      "text/plain": [
       "'/home/U052915a/NiftyNet'"
      ]
     },
     "execution_count": 3,
     "metadata": {},
     "output_type": "execute_result"
    }
   ],
   "source": [
    "# help(os)\n",
    "os.getcwd()\n"
   ]
  },
  {
   "cell_type": "code",
   "execution_count": 2,
   "metadata": {
    "collapsed": true
   },
   "outputs": [],
   "source": [
    "import os,sys \n",
    "niftynet_path='/home/U052915a/NiftyNet'\n",
    "os.chdir(niftynet_path)"
   ]
  },
  {
   "cell_type": "markdown",
   "metadata": {},
   "source": [
    "3) Make sure you have all the dependencies installed (replacing gpu with cpu for cpu-only mode):"
   ]
  },
  {
   "cell_type": "code",
   "execution_count": null,
   "metadata": {
    "collapsed": true
   },
   "outputs": [],
   "source": [
    "# import pip\n",
    "# #pip.main(['install','-r','requirements-gpu.txt'])\n",
    "# pip.main(['install','-r','requirements-cpu.txt'])\n",
    "# pip.main(['install', 'SimpleITK>=1.0.0'])"
   ]
  },
  {
   "cell_type": "markdown",
   "metadata": {},
   "source": [
    "## Training a network from the command line\n",
    "The simplest way to use NiftyNet is via the commandline net_segment.py script. Normally, this is done on the command line with a command like this from the NiftyNet root directory:\n",
    "\n",
    "```python net_segment.py train --conf demo/PROMISE12/promise12_demo_train_config.ini --max_iter 10```\n",
    "\n",
    "Notice that we use configuration file that is specific to this experiment. This file contains default settings. Also note that we can override these settings on the command line.\n",
    "\n",
    "To execute NiftyNet from within the notebook, you can run the following python code:  "
   ]
  },
  {
   "cell_type": "code",
   "execution_count": 5,
   "metadata": {
    "scrolled": false
   },
   "outputs": [
    {
     "name": "stdout",
     "output_type": "stream",
     "text": [
      "NiftyNet version 0.2.0.post1\n",
      "[CUSTOM]\n",
      "-- num_classes: 2\n",
      "-- output_prob: False\n",
      "-- label_normalisation: True\n",
      "-- min_numb_labels: (2,)\n",
      "-- min_sampling_ratio: 1e-06\n",
      "-- label: ('label',)\n",
      "-- image: ('promise12',)\n",
      "-- weight: ()\n",
      "-- name: net_segment\n",
      "[CONFIG_FILE]\n",
      "-- path: demos/PROMISE12/promise12_demo_train_config.ini\n",
      "[PROMISE12]\n",
      "-- csv_file: ./promise12_model/promise12.csv\n",
      "-- path_to_search: data/PROMISE12/TrainingData_Part1,data/PROMISE12/TrainingData_Part2,data/PROMISE12/TrainingData_Part3\n",
      "-- filename_contains: ('Case', 'mhd')\n",
      "-- filename_not_contains: ('Case2', 'segmentation')\n",
      "-- interp_order: 3\n",
      "-- pixdim: ()\n",
      "-- axcodes: ('A', 'R', 'S')\n",
      "-- spatial_window_size: (64, 64, 64)\n",
      "[LABEL]\n",
      "-- csv_file: ./promise12_model/label.csv\n",
      "-- path_to_search: data/PROMISE12/TrainingData_Part1,data/PROMISE12/TrainingData_Part2,data/PROMISE12/TrainingData_Part3\n",
      "-- filename_contains: ('Case', '_segmentation', 'mhd')\n",
      "-- filename_not_contains: ('Case2',)\n",
      "-- interp_order: 3\n",
      "-- pixdim: ()\n",
      "-- axcodes: ('A', 'R', 'S')\n",
      "-- spatial_window_size: (64, 64, 64)\n",
      "[SYSTEM]\n",
      "-- action: train\n",
      "-- cuda_devices: \"\"\n",
      "-- num_threads: 2\n",
      "-- num_gpus: 1\n",
      "-- model_dir: /home/U052915a/NiftyNet/promise12_model\n",
      "[NETWORK]\n",
      "-- name: dense_vnet\n",
      "-- activation_function: prelu\n",
      "-- batch_size: 1\n",
      "-- decay: 0\n",
      "-- reg_type: L2\n",
      "-- volume_padding_size: (0, 0, 0)\n",
      "-- window_sampling: resize\n",
      "-- queue_length: 8\n",
      "-- multimod_foreground_type: and\n",
      "-- histogram_ref_file: standardisation_models.txt\n",
      "-- norm_type: percentile\n",
      "-- cutoff: (0.01, 0.99)\n",
      "-- foreground_type: otsu_plus\n",
      "-- normalisation: True\n",
      "-- whitening: True\n",
      "-- normalise_foreground_only: True\n",
      "[TRAINING]\n",
      "-- optimiser: adam\n",
      "-- sample_per_volume: 4\n",
      "-- rotation_angle: (-10.0, 10.0)\n",
      "-- scaling_percentage: (-10.0, 10.0)\n",
      "-- random_flipping_axes: (1,)\n",
      "-- lr: 2e-05\n",
      "-- loss_type: Dice\n",
      "-- starting_iter: 0\n",
      "-- save_every_n: 12500\n",
      "-- tensorboard_every_n: 20\n",
      "-- max_iter: 10\n",
      "-- max_checkpoints: 20\n",
      "INFO:niftynet: [label] search file folders, writing csv file ./promise12_model/label.csv\n",
      "INFO:niftynet: [promise12] search file folders, writing csv file ./promise12_model/promise12.csv\n",
      "INFO:niftynet: image reader: loading [label] from ('label',) (40)\n",
      "INFO:niftynet: image reader: loading [image] from ('promise12',) (40)\n",
      "INFO:niftynet: training normalisation histogram references for image:{'promise12'}, using 40 subjects\n",
      "WARNING:niftynet: could not find mapping key labellabelfrom\n",
      "INFO:niftynet: Looking for the set of unique discrete labels from input label using 40 subjects\n",
      "WARNING:niftynet: moved existing histogram reference file97.5% \n",
      " from /home/U052915a/NiftyNet/promise12_model/standardisation_models.txt to /home/U052915a/NiftyNet/promise12_model/standardisation_models.txt.backup\n",
      "INFO:niftynet: reading size of preprocessed images\n",
      "INFO:niftynet: initialised window instance\n",
      "INFO:niftynet: buffering with 8 windows\n",
      "INFO:niftynet: initialised sampler output {'label': (64, 64, 64, 1, 1), 'image': (64, 64, 64, 1, 1)}  [-1 for dynamic size]\n",
      "INFO:niftynet: Filling queues (this can take a few minutes)\n",
      "INFO:niftynet: Starting preprocessing threads...\n",
      "INFO:niftynet: New thread: 0\n",
      "INFO:niftynet: New thread: 1\n",
      "INFO:niftynet: using DenseVNet\n",
      "INFO:niftynet: starting from iter 0\n",
      "INFO:niftynet: Parameters from random initialisations ...\n",
      "INFO:niftynet: iter 0, dice_loss=0.5674540400505066 (10.161s)\n",
      "INFO:niftynet: iter 1, dice_loss=0.5529866218566895 (0.727s)\n",
      "INFO:niftynet: iter 2, dice_loss=0.549954891204834 (1.275s)\n",
      "INFO:niftynet: iter 3, dice_loss=0.5201945304870605 (9.874s)\n",
      "INFO:niftynet: iter 4, dice_loss=0.5511422157287598 (6.678s)\n",
      "INFO:niftynet: iter 5, dice_loss=0.560731053352356 (7.007s)\n",
      "INFO:niftynet: iter 6, dice_loss=0.5610169172286987 (3.633s)\n",
      "INFO:niftynet: iter 7, dice_loss=0.5550507307052612 (2.103s)\n",
      "INFO:niftynet: iter 8, dice_loss=0.5433242321014404 (9.874s)\n",
      "INFO:niftynet: iter 9, dice_loss=0.5423365831375122 (3.509s)\n",
      "INFO:niftynet: Cleaning up...\n",
      "INFO:niftynet: iter 9 saved: /home/U052915a/NiftyNet/promise12_model/models/model.ckpt\n",
      "INFO:niftynet: stopping sampling threads\n",
      "INFO:niftynet: SegmentationApplication stopped (time in second 57.67).\n"
     ]
    },
    {
     "data": {
      "text/plain": [
       "0"
      ]
     },
     "execution_count": 5,
     "metadata": {},
     "output_type": "execute_result"
    }
   ],
   "source": [
    "import os\n",
    "import sys\n",
    "import niftynet\n",
    "sys.argv=['','train','-a','net_segment','--conf',os.path.join('demos','PROMISE12','promise12_demo_train_config.ini'),'--max_iter','10']\n",
    "niftynet.main()"
   ]
  },
  {
   "cell_type": "markdown",
   "metadata": {},
   "source": [
    "Now you have trained (a few iterations of) a deep learning network for medical image segmentation. If you have some time on your hands, you can finish training the network (by leaving off the max_iter argument) and try it out, by running the following command\n",
    "\n",
    "```python net_segment.py inference --conf demos/PROMISE12/promise12_demo_inference_config.ini```\n",
    "\n",
    "or the following python code in the Notebook"
   ]
  },
  {
   "cell_type": "code",
   "execution_count": 6,
   "metadata": {
    "scrolled": false
   },
   "outputs": [
    {
     "name": "stdout",
     "output_type": "stream",
     "text": [
      "NiftyNet version 0.2.0.post1\n",
      "[CUSTOM]\n",
      "-- num_classes: 2\n",
      "-- output_prob: False\n",
      "-- label_normalisation: True\n",
      "-- min_numb_labels: (2,)\n",
      "-- min_sampling_ratio: 1e-06\n",
      "-- label: ('label',)\n",
      "-- image: ('promise12',)\n",
      "-- weight: ()\n",
      "-- name: net_segment\n",
      "[CONFIG_FILE]\n",
      "-- path: demos/PROMISE12/promise12_demo_inference_config.ini\n",
      "[PROMISE12]\n",
      "-- csv_file: ./promise12_model/promise12.csv\n",
      "-- path_to_search: data/PROMISE12/TrainingData_Part1,data/PROMISE12/TrainingData_Part2,data/PROMISE12/TrainingData_Part3\n",
      "-- filename_contains: ('Case2', 'mhd')\n",
      "-- filename_not_contains: ('segmentation',)\n",
      "-- interp_order: 3\n",
      "-- pixdim: ()\n",
      "-- axcodes: ('A', 'R', 'S')\n",
      "-- spatial_window_size: (64, 64, 64)\n",
      "[LABEL]\n",
      "-- csv_file: ./promise12_model/label.csv\n",
      "-- path_to_search: data/PROMISE12/TrainingData_Part1,data/PROMISE12/TrainingData_Part2,data/PROMISE12/TrainingData_Part3\n",
      "-- filename_contains: ('Case2', '_segmentation', 'mhd')\n",
      "-- filename_not_contains: ()\n",
      "-- interp_order: 3\n",
      "-- pixdim: ()\n",
      "-- axcodes: ('A', 'R', 'S')\n",
      "-- spatial_window_size: (64, 64, 64)\n",
      "[SYSTEM]\n",
      "-- action: inference\n",
      "-- cuda_devices: \"\"\n",
      "-- num_threads: 2\n",
      "-- num_gpus: 1\n",
      "-- model_dir: /home/U052915a/NiftyNet/promise12_model\n",
      "[NETWORK]\n",
      "-- name: dense_vnet\n",
      "-- activation_function: prelu\n",
      "-- batch_size: 1\n",
      "-- decay: 0\n",
      "-- reg_type: L2\n",
      "-- volume_padding_size: (0, 0, 0)\n",
      "-- window_sampling: resize\n",
      "-- queue_length: 8\n",
      "-- multimod_foreground_type: and\n",
      "-- histogram_ref_file: standardisation_models.txt\n",
      "-- norm_type: percentile\n",
      "-- cutoff: (0.01, 0.99)\n",
      "-- foreground_type: otsu_plus\n",
      "-- normalisation: True\n",
      "-- whitening: True\n",
      "-- normalise_foreground_only: True\n",
      "[INFERENCE]\n",
      "-- spatial_window_size: (0, 0, 3)\n",
      "-- inference_iter: -1\n",
      "-- save_seg_dir: output/\n",
      "-- output_interp_order: 0\n",
      "-- border: (5, 5, 5)\n",
      "INFO:niftynet: [label] search file folders, writing csv file ./promise12_model/label.csv\n",
      "INFO:niftynet: [promise12] search file folders, writing csv file ./promise12_model/promise12.csv\n",
      "INFO:niftynet: image reader: loading [label] from ('label',) (10)\n",
      "INFO:niftynet: image reader: loading [image] from ('promise12',) (10)\n",
      "INFO:niftynet: normalisation histogram reference models ready for image:('promise12',)\n",
      "INFO:niftynet: label mapping ready for label:('label',), 2 classes\n",
      "INFO:niftynet: reading size of preprocessed images\n",
      "INFO:niftynet: initialised window instance\n",
      "INFO:niftynet: buffering with 8 windows\n",
      "INFO:niftynet: initialised sampler output {'label': (64, 64, 64, 1, 1), 'image': (64, 64, 64, 1, 1)}  [-1 for dynamic size]\n",
      "INFO:niftynet: Filling queues (this can take a few minutes)\n",
      "INFO:niftynet: Starting preprocessing threads...\n",
      "INFO:niftynet: New thread: 0\n",
      "INFO:niftynet: using DenseVNet\n"
     ]
    },
    {
     "ename": "AttributeError",
     "evalue": "'NoneType' object has no attribute 'add_to_collection'",
     "output_type": "error",
     "traceback": [
      "\u001b[0;31m---------------------------------------------------------------------------\u001b[0m",
      "\u001b[0;31mAttributeError\u001b[0m                            Traceback (most recent call last)",
      "\u001b[0;32m<ipython-input-6-9db68a69f9b6>\u001b[0m in \u001b[0;36m<module>\u001b[0;34m()\u001b[0m\n\u001b[1;32m      3\u001b[0m \u001b[0;32mimport\u001b[0m \u001b[0mniftynet\u001b[0m\u001b[0;34m\u001b[0m\u001b[0m\n\u001b[1;32m      4\u001b[0m \u001b[0msys\u001b[0m\u001b[0;34m.\u001b[0m\u001b[0margv\u001b[0m\u001b[0;34m=\u001b[0m\u001b[0;34m[\u001b[0m\u001b[0;34m''\u001b[0m\u001b[0;34m,\u001b[0m \u001b[0;34m'inference'\u001b[0m\u001b[0;34m,\u001b[0m\u001b[0;34m'-a'\u001b[0m\u001b[0;34m,\u001b[0m\u001b[0;34m'net_segment'\u001b[0m\u001b[0;34m,\u001b[0m\u001b[0;34m'--conf'\u001b[0m\u001b[0;34m,\u001b[0m\u001b[0mos\u001b[0m\u001b[0;34m.\u001b[0m\u001b[0mpath\u001b[0m\u001b[0;34m.\u001b[0m\u001b[0mjoin\u001b[0m\u001b[0;34m(\u001b[0m\u001b[0;34m'demos'\u001b[0m\u001b[0;34m,\u001b[0m\u001b[0;34m'PROMISE12'\u001b[0m\u001b[0;34m,\u001b[0m\u001b[0;34m'promise12_demo_inference_config.ini'\u001b[0m\u001b[0;34m)\u001b[0m\u001b[0;34m]\u001b[0m\u001b[0;34m\u001b[0m\u001b[0m\n\u001b[0;32m----> 5\u001b[0;31m \u001b[0mniftynet\u001b[0m\u001b[0;34m.\u001b[0m\u001b[0mmain\u001b[0m\u001b[0;34m(\u001b[0m\u001b[0;34m)\u001b[0m\u001b[0;34m\u001b[0m\u001b[0m\n\u001b[0m",
      "\u001b[0;32m~/NiftyNet/niftynet/__init__.py\u001b[0m in \u001b[0;36mmain\u001b[0;34m()\u001b[0m\n\u001b[1;32m     81\u001b[0m     \u001b[0mapp_driver\u001b[0m \u001b[0;34m=\u001b[0m \u001b[0mApplicationDriver\u001b[0m\u001b[0;34m(\u001b[0m\u001b[0;34m)\u001b[0m\u001b[0;34m\u001b[0m\u001b[0m\n\u001b[1;32m     82\u001b[0m     \u001b[0mapp_driver\u001b[0m\u001b[0;34m.\u001b[0m\u001b[0minitialise_application\u001b[0m\u001b[0;34m(\u001b[0m\u001b[0msystem_param\u001b[0m\u001b[0;34m,\u001b[0m \u001b[0minput_data_param\u001b[0m\u001b[0;34m)\u001b[0m\u001b[0;34m\u001b[0m\u001b[0m\n\u001b[0;32m---> 83\u001b[0;31m     \u001b[0mapp_driver\u001b[0m\u001b[0;34m.\u001b[0m\u001b[0mrun_application\u001b[0m\u001b[0;34m(\u001b[0m\u001b[0;34m)\u001b[0m\u001b[0;34m\u001b[0m\u001b[0m\n\u001b[0m\u001b[1;32m     84\u001b[0m     \u001b[0;32mreturn\u001b[0m \u001b[0;36m0\u001b[0m\u001b[0;34m\u001b[0m\u001b[0m\n",
      "\u001b[0;32m~/NiftyNet/niftynet/engine/application_driver.py\u001b[0m in \u001b[0;36mrun_application\u001b[0;34m(self)\u001b[0m\n\u001b[1;32m    166\u001b[0m                 \u001b[0;32mraise\u001b[0m\u001b[0;34m\u001b[0m\u001b[0m\n\u001b[1;32m    167\u001b[0m \u001b[0;34m\u001b[0m\u001b[0m\n\u001b[0;32m--> 168\u001b[0;31m             \u001b[0mself\u001b[0m\u001b[0;34m.\u001b[0m\u001b[0mgraph\u001b[0m \u001b[0;34m=\u001b[0m \u001b[0mself\u001b[0m\u001b[0;34m.\u001b[0m\u001b[0m_create_graph\u001b[0m\u001b[0;34m(\u001b[0m\u001b[0mself\u001b[0m\u001b[0;34m.\u001b[0m\u001b[0mgraph\u001b[0m\u001b[0;34m)\u001b[0m\u001b[0;34m\u001b[0m\u001b[0m\n\u001b[0m\u001b[1;32m    169\u001b[0m             \u001b[0mself\u001b[0m\u001b[0;34m.\u001b[0m\u001b[0mapp\u001b[0m\u001b[0;34m.\u001b[0m\u001b[0mcheck_initialisations\u001b[0m\u001b[0;34m(\u001b[0m\u001b[0;34m)\u001b[0m\u001b[0;34m\u001b[0m\u001b[0m\n\u001b[1;32m    170\u001b[0m \u001b[0;34m\u001b[0m\u001b[0m\n",
      "\u001b[0;32m~/NiftyNet/niftynet/engine/application_driver.py\u001b[0m in \u001b[0;36m_create_graph\u001b[0;34m(self, graph)\u001b[0m\n\u001b[1;32m    233\u001b[0m                         self.app.connect_data_and_network(\n\u001b[1;32m    234\u001b[0m                             \u001b[0mself\u001b[0m\u001b[0;34m.\u001b[0m\u001b[0moutputs_collector\u001b[0m\u001b[0;34m,\u001b[0m\u001b[0;34m\u001b[0m\u001b[0m\n\u001b[0;32m--> 235\u001b[0;31m                             self.gradients_collector)\n\u001b[0m\u001b[1;32m    236\u001b[0m                         \u001b[0;32mif\u001b[0m \u001b[0mself\u001b[0m\u001b[0;34m.\u001b[0m\u001b[0mis_training\u001b[0m\u001b[0;34m:\u001b[0m\u001b[0;34m\u001b[0m\u001b[0m\n\u001b[1;32m    237\u001b[0m                             \u001b[0;31m# batch norm statistics from the last device\u001b[0m\u001b[0;34m\u001b[0m\u001b[0;34m\u001b[0m\u001b[0m\n",
      "\u001b[0;32m~/NiftyNet/niftynet/application/segmentation_application.py\u001b[0m in \u001b[0;36mconnect_data_and_network\u001b[0;34m(self, outputs_collector, gradients_collector)\u001b[0m\n\u001b[1;32m    219\u001b[0m             \u001b[0mgrads\u001b[0m \u001b[0;34m=\u001b[0m \u001b[0mself\u001b[0m\u001b[0;34m.\u001b[0m\u001b[0moptimiser\u001b[0m\u001b[0;34m.\u001b[0m\u001b[0mcompute_gradients\u001b[0m\u001b[0;34m(\u001b[0m\u001b[0mloss\u001b[0m\u001b[0;34m)\u001b[0m\u001b[0;34m\u001b[0m\u001b[0m\n\u001b[1;32m    220\u001b[0m             \u001b[0;31m# collecting gradients variables\u001b[0m\u001b[0;34m\u001b[0m\u001b[0;34m\u001b[0m\u001b[0m\n\u001b[0;32m--> 221\u001b[0;31m             \u001b[0mgradients_collector\u001b[0m\u001b[0;34m.\u001b[0m\u001b[0madd_to_collection\u001b[0m\u001b[0;34m(\u001b[0m\u001b[0;34m[\u001b[0m\u001b[0mgrads\u001b[0m\u001b[0;34m]\u001b[0m\u001b[0;34m)\u001b[0m\u001b[0;34m\u001b[0m\u001b[0m\n\u001b[0m\u001b[1;32m    222\u001b[0m             \u001b[0;31m# collecting output variables\u001b[0m\u001b[0;34m\u001b[0m\u001b[0;34m\u001b[0m\u001b[0m\n\u001b[1;32m    223\u001b[0m             outputs_collector.add_to_collection(\n",
      "\u001b[0;31mAttributeError\u001b[0m: 'NoneType' object has no attribute 'add_to_collection'"
     ]
    }
   ],
   "source": [
    "import os\n",
    "import sys\n",
    "import niftynet\n",
    "sys.argv=['', 'inference','-a','net_segment','--conf',os.path.join('demos','PROMISE12','promise12_demo_inference_config.ini')]\n",
    "niftynet.main()"
   ]
  },
  {
   "cell_type": "markdown",
   "metadata": {},
   "source": [
    "Otherwise, you can load up some pre-trained weights for the network:\n",
    "\n",
    "```python net_segment.py inference --conf demo/PROMISE12/promise12_demo_config.ini --model_dir demo/PROMISE12/pretrained```\n",
    "or the following python code in the Notebook"
   ]
  },
  {
   "cell_type": "code",
   "execution_count": 7,
   "metadata": {
    "scrolled": true
   },
   "outputs": [
    {
     "name": "stdout",
     "output_type": "stream",
     "text": [
      "NiftyNet version 0.2.0.post1\n"
     ]
    },
    {
     "ename": "ValueError",
     "evalue": "Could not resolve [demos/PROMISE12/pretrained].\nMake sure it is a valid folder path or a module name.\nIf it is string representing a module, the parent folder of [demos/PROMISE12/pretrained] should be on the system path.\n\nCurrent system path ['', '/home/U052915a/anaconda3/lib/python36.zip', '/home/U052915a/anaconda3/lib/python3.6', '/home/U052915a/anaconda3/lib/python3.6/lib-dynload', '/home/U052915a/.local/lib/python3.6/site-packages', '/home/U052915a/anaconda3/lib/python3.6/site-packages', '/home/U052915a/anaconda3/lib/python3.6/site-packages/Mako-1.0.7-py3.6.egg', '/home/U052915a/anaconda3/lib/python3.6/site-packages/deepmedic-0.6-py3.6.egg', '/home/U052915a/anaconda3/lib/python3.6/site-packages/pp-1.6.4.4-py3.6.egg', '/home/U052915a/anaconda3/lib/python3.6/site-packages/bonebotvfx-0.1.1-py3.6.egg', '/home/U052915a/anaconda3/lib/python3.6/site-packages/IPython/extensions', '/home/U052915a/.ipython'].",
     "output_type": "error",
     "traceback": [
      "\u001b[0;31m---------------------------------------------------------------------------\u001b[0m",
      "\u001b[0;31mValueError\u001b[0m                                Traceback (most recent call last)",
      "\u001b[0;32m<ipython-input-7-d16b9800bd58>\u001b[0m in \u001b[0;36m<module>\u001b[0;34m()\u001b[0m\n\u001b[1;32m      3\u001b[0m \u001b[0;32mimport\u001b[0m \u001b[0mniftynet\u001b[0m\u001b[0;34m\u001b[0m\u001b[0m\n\u001b[1;32m      4\u001b[0m \u001b[0msys\u001b[0m\u001b[0;34m.\u001b[0m\u001b[0margv\u001b[0m\u001b[0;34m=\u001b[0m\u001b[0;34m[\u001b[0m\u001b[0;34m''\u001b[0m\u001b[0;34m,\u001b[0m \u001b[0;34m'inference'\u001b[0m\u001b[0;34m,\u001b[0m\u001b[0;34m'-a'\u001b[0m\u001b[0;34m,\u001b[0m\u001b[0;34m'net_segment'\u001b[0m\u001b[0;34m,\u001b[0m\u001b[0;34m'--conf'\u001b[0m\u001b[0;34m,\u001b[0m\u001b[0mos\u001b[0m\u001b[0;34m.\u001b[0m\u001b[0mpath\u001b[0m\u001b[0;34m.\u001b[0m\u001b[0mjoin\u001b[0m\u001b[0;34m(\u001b[0m\u001b[0;34m'demos'\u001b[0m\u001b[0;34m,\u001b[0m\u001b[0;34m'PROMISE12'\u001b[0m\u001b[0;34m,\u001b[0m\u001b[0;34m'promise12_demo_inference_config.ini'\u001b[0m\u001b[0;34m)\u001b[0m\u001b[0;34m,\u001b[0m \u001b[0;34m'--model_dir'\u001b[0m\u001b[0;34m,\u001b[0m \u001b[0mos\u001b[0m\u001b[0;34m.\u001b[0m\u001b[0mpath\u001b[0m\u001b[0;34m.\u001b[0m\u001b[0mjoin\u001b[0m\u001b[0;34m(\u001b[0m\u001b[0;34m'demos'\u001b[0m\u001b[0;34m,\u001b[0m\u001b[0;34m'PROMISE12'\u001b[0m\u001b[0;34m,\u001b[0m\u001b[0;34m'pretrained'\u001b[0m\u001b[0;34m)\u001b[0m\u001b[0;34m]\u001b[0m\u001b[0;34m\u001b[0m\u001b[0m\n\u001b[0;32m----> 5\u001b[0;31m \u001b[0mniftynet\u001b[0m\u001b[0;34m.\u001b[0m\u001b[0mmain\u001b[0m\u001b[0;34m(\u001b[0m\u001b[0;34m)\u001b[0m\u001b[0;34m\u001b[0m\u001b[0m\n\u001b[0m",
      "\u001b[0;32m~/NiftyNet/niftynet/__init__.py\u001b[0m in \u001b[0;36mmain\u001b[0;34m()\u001b[0m\n\u001b[1;32m     46\u001b[0m     system_param['SYSTEM'].model_dir = resolve_module_dir(\n\u001b[1;32m     47\u001b[0m         \u001b[0msystem_param\u001b[0m\u001b[0;34m[\u001b[0m\u001b[0;34m'SYSTEM'\u001b[0m\u001b[0;34m]\u001b[0m\u001b[0;34m.\u001b[0m\u001b[0mmodel_dir\u001b[0m\u001b[0;34m,\u001b[0m\u001b[0;34m\u001b[0m\u001b[0m\n\u001b[0;32m---> 48\u001b[0;31m         create_new=system_param['SYSTEM'].action == \"train\")\n\u001b[0m\u001b[1;32m     49\u001b[0m \u001b[0;34m\u001b[0m\u001b[0m\n\u001b[1;32m     50\u001b[0m     \u001b[0;31m# writing all params for future reference\u001b[0m\u001b[0;34m\u001b[0m\u001b[0;34m\u001b[0m\u001b[0m\n",
      "\u001b[0;32m~/NiftyNet/niftynet/io/misc_io.py\u001b[0m in \u001b[0;36mresolve_module_dir\u001b[0;34m(module_dir_str, create_new)\u001b[0m\n\u001b[1;32m    407\u001b[0m             \u001b[0;34m\"the parent folder of [{}] should be on \"\u001b[0m\u001b[0;34m\u001b[0m\u001b[0m\n\u001b[1;32m    408\u001b[0m             \"the system path.\\n\\nCurrent system path {}.\".format(\n\u001b[0;32m--> 409\u001b[0;31m                 module_dir_str, module_dir_str, sys.path))\n\u001b[0m\u001b[1;32m    410\u001b[0m \u001b[0;34m\u001b[0m\u001b[0m\n\u001b[1;32m    411\u001b[0m \u001b[0;34m\u001b[0m\u001b[0m\n",
      "\u001b[0;31mValueError\u001b[0m: Could not resolve [demos/PROMISE12/pretrained].\nMake sure it is a valid folder path or a module name.\nIf it is string representing a module, the parent folder of [demos/PROMISE12/pretrained] should be on the system path.\n\nCurrent system path ['', '/home/U052915a/anaconda3/lib/python36.zip', '/home/U052915a/anaconda3/lib/python3.6', '/home/U052915a/anaconda3/lib/python3.6/lib-dynload', '/home/U052915a/.local/lib/python3.6/site-packages', '/home/U052915a/anaconda3/lib/python3.6/site-packages', '/home/U052915a/anaconda3/lib/python3.6/site-packages/Mako-1.0.7-py3.6.egg', '/home/U052915a/anaconda3/lib/python3.6/site-packages/deepmedic-0.6-py3.6.egg', '/home/U052915a/anaconda3/lib/python3.6/site-packages/pp-1.6.4.4-py3.6.egg', '/home/U052915a/anaconda3/lib/python3.6/site-packages/bonebotvfx-0.1.1-py3.6.egg', '/home/U052915a/anaconda3/lib/python3.6/site-packages/IPython/extensions', '/home/U052915a/.ipython']."
     ]
    }
   ],
   "source": [
    "import os\n",
    "import sys\n",
    "import niftynet\n",
    "sys.argv=['', 'inference','-a','net_segment','--conf',os.path.join('demos','PROMISE12','promise12_demo_inference_config.ini'), '--model_dir', os.path.join('demos','PROMISE12','pretrained')]\n",
    "niftynet.main()"
   ]
  },
  {
   "cell_type": "markdown",
   "metadata": {},
   "source": [
    "You can find your segmented images in output/promise12_demo\n",
    "\n",
    "NiftyNet has taken care of a lot of details behind the scenes:\n",
    "1. Organizing data into a dataset of images and segmentation labels\n",
    "2. Building a deep leaning network (in this case, it is based on VNet by Milletari et al.)\n",
    "3. Added deep learning infrastruture, such as a loss function for segmentation, the ADAM optimizer.\n",
    "4. Added augmentation, where the images are zoomed and rotated a little bit for every training step so that you do not over-fit the data\n",
    "5. Run the training algorithm\n",
    "\n",
    "All of this was controlled by the configuration file.\n",
    "\n",
    "## The configuration file\n",
    "\n",
    " Let's take a closer look at the configuration file. Further details about the configuration settings are available in ```config/readme.md```"
   ]
  },
  {
   "cell_type": "raw",
   "metadata": {},
   "source": [
    "[promise12]\n",
    "path_to_search = data/PROMISE12/TrainingData_Part1,data/PROMISE12/TrainingData_Part2,data/PROMISE12/TrainingData_Part3\n",
    "filename_contains = Case,mhd\n",
    "filename_not_contains = Case2,segmentation\n",
    "spatial_window_size = (64, 64, 64)\n",
    "interp_order = 3\n",
    "axcodes=(A, R, S)\n",
    "\n",
    "[label]\n",
    "path_to_search = data/PROMISE12/TrainingData_Part1,data/PROMISE12/TrainingData_Part2,data/PROMISE12/TrainingData_Part3\n",
    "filename_contains = Case,_segmentation,mhd\n",
    "filename_not_contains = Case2\n",
    "spatial_window_size = (64, 64, 64)\n",
    "interp_order = 3\n",
    "axcodes=(A, R, S)"
   ]
  },
  {
   "cell_type": "markdown",
   "metadata": {},
   "source": [
    "These lines define how NiftyNet organizes your data. In this case, in the ./data/PROMISE12 folder there is one T2-weighted MR image named 'Case??_T2.nii.gz' and one reference segmentation named 'Case??_segmentation.nii.gz' per patient. The images for each patient are automatically grouped because they share the same prefix 'Case??'. For training, we exclude patients Case20-Case26, and for inference, we only include patients Case20-Case26, so that our training and inference data are mutually exclusive."
   ]
  },
  {
   "cell_type": "raw",
   "metadata": {},
   "source": [
    "[SYSTEM]\n",
    "cuda_devices = \"\"\n",
    "num_threads = 2\n",
    "num_gpus = 1\n",
    "model_dir = ./promise12_model"
   ]
  },
  {
   "cell_type": "markdown",
   "metadata": {},
   "source": [
    "These lines are setting up some system parameters: which GPUs to use (in this case whatever is available), where to save the trained network parameters, and how many threads to use for queuing them up.\n",
    "\n",
    "The following lines specify network properties."
   ]
  },
  {
   "cell_type": "raw",
   "metadata": {},
   "source": [
    "[NETWORK]\n",
    "name = dense_vnet\n",
    "activation_function = prelu\n",
    "batch_size = 1\n",
    "\n",
    "# volume level preprocessing\n",
    "volume_padding_size = 0\n",
    "# histogram normalisation\n",
    "histogram_ref_file = standardisation_models.txt\n",
    "norm_type = percentile\n",
    "cutoff = (0.01, 0.99)\n",
    "normalisation = True\n",
    "whitening = True\n",
    "normalise_foreground_only=True\n",
    "foreground_type = otsu_plus\n",
    "multimod_foreground_type = and\n",
    "window_sampling = resize\n",
    "\n",
    "#how many images to queue up in advance so that the GPU isn't waiting for data\n",
    "queue_length = 8\n"
   ]
  },
  {
   "cell_type": "markdown",
   "metadata": {},
   "source": [
    "## Summary\n",
    "\n",
    "In this demo \n",
    "1. you learned to run training and testing for a deep-learning-based segmentation pipeline from the command-line and from python code directly; \n",
    "2. you also learned about the NiftyNet configuration files, and how they control the learning and inference process; and \n",
    "3. you learned multiple ways to tell NiftyNet which data to use."
   ]
  }
 ],
 "metadata": {
  "kernelspec": {
   "display_name": "Python 3",
   "language": "python",
   "name": "python3"
  },
  "language_info": {
   "codemirror_mode": {
    "name": "ipython",
    "version": 3
   },
   "file_extension": ".py",
   "mimetype": "text/x-python",
   "name": "python",
   "nbconvert_exporter": "python",
   "pygments_lexer": "ipython3",
   "version": "3.6.2"
  }
 },
 "nbformat": 4,
 "nbformat_minor": 2
}
